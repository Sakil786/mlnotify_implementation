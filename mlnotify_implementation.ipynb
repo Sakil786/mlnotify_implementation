{
 "cells": [
  {
   "cell_type": "code",
   "execution_count": 7,
   "id": "73aa232a",
   "metadata": {},
   "outputs": [],
   "source": [
    "#import necessary libraries\n",
    "import lightgbm as lgb\n",
    "import pandas as pd\n",
    "import numpy as np\n",
    "from sklearn.model_selection import train_test_split\n",
    "from sklearn import metrics\n",
    "import mlnotify\n",
    "import warnings\n",
    "warnings.filterwarnings(\"ignore\", category=DeprecationWarning) "
   ]
  },
  {
   "cell_type": "code",
   "execution_count": 16,
   "id": "60c9d527",
   "metadata": {},
   "outputs": [],
   "source": [
    "#reading data\n",
    "data=pd.read_csv(r\"D:\\Pytorch\\new_data\\stock_prices.csv\\stock_prices.csv\")"
   ]
  },
  {
   "cell_type": "code",
   "execution_count": 17,
   "id": "b4eaa297",
   "metadata": {
    "scrolled": true
   },
   "outputs": [
    {
     "data": {
      "text/html": [
       "<div>\n",
       "<style scoped>\n",
       "    .dataframe tbody tr th:only-of-type {\n",
       "        vertical-align: middle;\n",
       "    }\n",
       "\n",
       "    .dataframe tbody tr th {\n",
       "        vertical-align: top;\n",
       "    }\n",
       "\n",
       "    .dataframe thead th {\n",
       "        text-align: right;\n",
       "    }\n",
       "</style>\n",
       "<table border=\"1\" class=\"dataframe\">\n",
       "  <thead>\n",
       "    <tr style=\"text-align: right;\">\n",
       "      <th></th>\n",
       "      <th>RowId</th>\n",
       "      <th>Date</th>\n",
       "      <th>SecuritiesCode</th>\n",
       "      <th>Open</th>\n",
       "      <th>High</th>\n",
       "      <th>Low</th>\n",
       "      <th>Close</th>\n",
       "      <th>Volume</th>\n",
       "      <th>AdjustmentFactor</th>\n",
       "      <th>ExpectedDividend</th>\n",
       "      <th>SupervisionFlag</th>\n",
       "      <th>Target</th>\n",
       "    </tr>\n",
       "  </thead>\n",
       "  <tbody>\n",
       "    <tr>\n",
       "      <th>0</th>\n",
       "      <td>20170104_1301</td>\n",
       "      <td>2017-01-04</td>\n",
       "      <td>1301</td>\n",
       "      <td>2734.0</td>\n",
       "      <td>2755.0</td>\n",
       "      <td>2730.0</td>\n",
       "      <td>2742.0</td>\n",
       "      <td>31400</td>\n",
       "      <td>1.0</td>\n",
       "      <td>NaN</td>\n",
       "      <td>False</td>\n",
       "      <td>0.000730</td>\n",
       "    </tr>\n",
       "    <tr>\n",
       "      <th>1</th>\n",
       "      <td>20170104_1332</td>\n",
       "      <td>2017-01-04</td>\n",
       "      <td>1332</td>\n",
       "      <td>568.0</td>\n",
       "      <td>576.0</td>\n",
       "      <td>563.0</td>\n",
       "      <td>571.0</td>\n",
       "      <td>2798500</td>\n",
       "      <td>1.0</td>\n",
       "      <td>NaN</td>\n",
       "      <td>False</td>\n",
       "      <td>0.012324</td>\n",
       "    </tr>\n",
       "    <tr>\n",
       "      <th>2</th>\n",
       "      <td>20170104_1333</td>\n",
       "      <td>2017-01-04</td>\n",
       "      <td>1333</td>\n",
       "      <td>3150.0</td>\n",
       "      <td>3210.0</td>\n",
       "      <td>3140.0</td>\n",
       "      <td>3210.0</td>\n",
       "      <td>270800</td>\n",
       "      <td>1.0</td>\n",
       "      <td>NaN</td>\n",
       "      <td>False</td>\n",
       "      <td>0.006154</td>\n",
       "    </tr>\n",
       "    <tr>\n",
       "      <th>3</th>\n",
       "      <td>20170104_1376</td>\n",
       "      <td>2017-01-04</td>\n",
       "      <td>1376</td>\n",
       "      <td>1510.0</td>\n",
       "      <td>1550.0</td>\n",
       "      <td>1510.0</td>\n",
       "      <td>1550.0</td>\n",
       "      <td>11300</td>\n",
       "      <td>1.0</td>\n",
       "      <td>NaN</td>\n",
       "      <td>False</td>\n",
       "      <td>0.011053</td>\n",
       "    </tr>\n",
       "    <tr>\n",
       "      <th>4</th>\n",
       "      <td>20170104_1377</td>\n",
       "      <td>2017-01-04</td>\n",
       "      <td>1377</td>\n",
       "      <td>3270.0</td>\n",
       "      <td>3350.0</td>\n",
       "      <td>3270.0</td>\n",
       "      <td>3330.0</td>\n",
       "      <td>150800</td>\n",
       "      <td>1.0</td>\n",
       "      <td>NaN</td>\n",
       "      <td>False</td>\n",
       "      <td>0.003026</td>\n",
       "    </tr>\n",
       "  </tbody>\n",
       "</table>\n",
       "</div>"
      ],
      "text/plain": [
       "           RowId        Date  SecuritiesCode    Open    High     Low   Close  \\\n",
       "0  20170104_1301  2017-01-04            1301  2734.0  2755.0  2730.0  2742.0   \n",
       "1  20170104_1332  2017-01-04            1332   568.0   576.0   563.0   571.0   \n",
       "2  20170104_1333  2017-01-04            1333  3150.0  3210.0  3140.0  3210.0   \n",
       "3  20170104_1376  2017-01-04            1376  1510.0  1550.0  1510.0  1550.0   \n",
       "4  20170104_1377  2017-01-04            1377  3270.0  3350.0  3270.0  3330.0   \n",
       "\n",
       "    Volume  AdjustmentFactor  ExpectedDividend  SupervisionFlag    Target  \n",
       "0    31400               1.0               NaN            False  0.000730  \n",
       "1  2798500               1.0               NaN            False  0.012324  \n",
       "2   270800               1.0               NaN            False  0.006154  \n",
       "3    11300               1.0               NaN            False  0.011053  \n",
       "4   150800               1.0               NaN            False  0.003026  "
      ]
     },
     "execution_count": 17,
     "metadata": {},
     "output_type": "execute_result"
    }
   ],
   "source": [
    "data.head()"
   ]
  },
  {
   "cell_type": "code",
   "execution_count": 18,
   "id": "90393f0e",
   "metadata": {},
   "outputs": [],
   "source": [
    "#selecting particular features\n",
    "data_select=data[['Open','High','Low','Close','Volume','Target']]"
   ]
  },
  {
   "cell_type": "code",
   "execution_count": 19,
   "id": "ec409249",
   "metadata": {},
   "outputs": [],
   "source": [
    "#handling missing values\n",
    "stock_prices_data_select2 = data_select.fillna(method='bfill')"
   ]
  },
  {
   "cell_type": "code",
   "execution_count": 20,
   "id": "84365c23",
   "metadata": {},
   "outputs": [
    {
     "data": {
      "text/plain": [
       "Open      0\n",
       "High      0\n",
       "Low       0\n",
       "Close     0\n",
       "Volume    0\n",
       "Target    0\n",
       "dtype: int64"
      ]
     },
     "execution_count": 20,
     "metadata": {},
     "output_type": "execute_result"
    }
   ],
   "source": [
    "#checking null values\n",
    "stock_prices_data_select2.isnull().sum()"
   ]
  },
  {
   "cell_type": "code",
   "execution_count": 21,
   "id": "26fe4530",
   "metadata": {},
   "outputs": [
    {
     "data": {
      "text/plain": [
       "(2332531, 6)"
      ]
     },
     "execution_count": 21,
     "metadata": {},
     "output_type": "execute_result"
    }
   ],
   "source": [
    "stock_prices_data_select2.shape"
   ]
  },
  {
   "cell_type": "code",
   "execution_count": 22,
   "id": "832333e2",
   "metadata": {},
   "outputs": [],
   "source": [
    "# To define the input and output feature\n",
    "\n",
    "x=stock_prices_data_select2[['Open','High','Low','Close','Volume']]\n",
    "y = stock_prices_data_select2.Target\n",
    "# train and test split\n",
    "x_train,x_test,y_train,y_test = train_test_split(x,y,test_size=0.33,random_state=42)"
   ]
  },
  {
   "cell_type": "code",
   "execution_count": 23,
   "id": "c4c6ba90",
   "metadata": {},
   "outputs": [
    {
     "name": "stderr",
     "output_type": "stream",
     "text": [
      "C:\\Users\\hp\\anaconda3\\lib\\site-packages\\lightgbm\\sklearn.py:736: UserWarning: 'verbose' argument is deprecated and will be removed in a future release of LightGBM. Pass 'log_evaluation()' callback via 'callbacks' argument instead.\n",
      "  _log_warning(\"'verbose' argument is deprecated and will be removed in a future release of LightGBM. \"\n"
     ]
    },
    {
     "name": "stdout",
     "output_type": "stream",
     "text": [
      "                                     \n",
      "                                     \n",
      "    █▀▀▀▀▀█ ▀▀   █  ▄▄▀▀▀ █▀▀▀▀▀█    \n",
      "    █ ███ █ █▄ █▀█▀█ ▄██  █ ███ █    \n",
      "    █ ▀▀▀ █ ▀█▀▀▄▄▄▀█▄▄█  █ ▀▀▀ █    \n",
      "    ▀▀▀▀▀▀▀ ▀▄▀▄▀ ▀▄█▄▀▄█ ▀▀▀▀▀▀▀    \n",
      "    ████ ▄▀▄▀▄    ▄▀█▀███▀▄▄█▀▀ █    \n",
      "    ▄██▀▀▄▀ █  ▄▄█▄ █ ▄ ▄▀▄▄█ ▀▀▄    \n",
      "     ▄▀ ▀▄▀█▄▀▄█ ▀ ▄▄▀ █  ▄  ▀█▄▄    \n",
      "    ▀▀▄█▄█▀█▄ ▀ █ ▄ █▀▀▀   ▄▀ ▀█▀    \n",
      "    ▀▀ ██ ▀  ▄▄▀▄███ ▄▀ ▄▀ █▀█▄█     \n",
      "    ▀ ▄▀ █▀ ▀▄ ▀█  ▀▀▄▄ █ ▄ █ █      \n",
      "     ▀  ▀ ▀▀▄▄▄▀█▄▄▀██▄▀█▀▀▀███▄▄    \n",
      "    █▀▀▀▀▀█   ▄▀▀▄█ █ █▀█ ▀ ██ █     \n",
      "    █ ███ █ ▄█▀▄█▀ █▄█▄ ▀█▀██▄▀▀█    \n",
      "    █ ▀▀▀ █ █▀ █ ▀▀ ▀ █ ██▄█▄▄▀▄▀    \n",
      "    ▀▀▀▀▀▀▀ ▀▀    ▀ ▀ ▀ ▀▀  ▀  ▀     \n",
      "                                     \n",
      "                                     \n",
      "https://mlnotify.aporia.com/training/573194\n",
      "\n",
      "Scan the QR code or enter the url to get a notification when your training is done\n",
      "\n",
      "\n",
      "[20]\ttraining's l2: 0.000546212\tvalid_0's l2: 0.000547372\n",
      "[40]\ttraining's l2: 0.000545756\tvalid_0's l2: 0.000547335\n",
      "[60]\ttraining's l2: 0.000545395\tvalid_0's l2: 0.000547316\n",
      "[80]\ttraining's l2: 0.000545117\tvalid_0's l2: 0.000547326\n",
      "[100]\ttraining's l2: 0.000544795\tvalid_0's l2: 0.000547333\n"
     ]
    },
    {
     "data": {
      "text/plain": [
       "LGBMRegressor(learning_rate=0.09, max_depth=-5, random_state=42)"
      ]
     },
     "execution_count": 23,
     "metadata": {},
     "output_type": "execute_result"
    }
   ],
   "source": [
    "#mlnotify.start()\n",
    "model = lgb.LGBMRegressor(learning_rate=0.09,max_depth=-5,random_state=42)\n",
    "model.fit(x_train,y_train,eval_set=[(x_test,y_test),(x_train,y_train)],\n",
    "          verbose=20,eval_metric='logloss')\n",
    "#mlnotify.end()"
   ]
  },
  {
   "cell_type": "code",
   "execution_count": null,
   "id": "1145c5f3",
   "metadata": {},
   "outputs": [],
   "source": []
  }
 ],
 "metadata": {
  "kernelspec": {
   "display_name": "Python 3",
   "language": "python",
   "name": "python3"
  },
  "language_info": {
   "codemirror_mode": {
    "name": "ipython",
    "version": 3
   },
   "file_extension": ".py",
   "mimetype": "text/x-python",
   "name": "python",
   "nbconvert_exporter": "python",
   "pygments_lexer": "ipython3",
   "version": "3.8.8"
  }
 },
 "nbformat": 4,
 "nbformat_minor": 5
}
